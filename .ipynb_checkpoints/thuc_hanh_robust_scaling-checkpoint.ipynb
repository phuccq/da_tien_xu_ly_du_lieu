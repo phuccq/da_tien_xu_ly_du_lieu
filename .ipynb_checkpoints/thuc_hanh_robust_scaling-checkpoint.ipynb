{
 "cells": [
  {
   "cell_type": "code",
   "execution_count": 19,
   "id": "6d57f5c6",
   "metadata": {},
   "outputs": [],
   "source": [
    "# import cac thu vien can dung\n",
    "import pandas as pd\n",
    "import numpy as np\n",
    "import seaborn as sns\n",
    "import matplotlib.pyplot as plt\n",
    "from sklearn.preprocessing import MinMaxScaler,RobustScaler"
   ]
  },
  {
   "cell_type": "code",
   "execution_count": 2,
   "id": "f4c3cceb",
   "metadata": {},
   "outputs": [],
   "source": [
    "# tạo các cột theo các phần phối khác nhau\n",
    "df = pd.DataFrame({ \n",
    "    'beta': np.random.beta(5, 1, 1000) * 60,        # beta\n",
    "    'exponential': np.random.exponential(10, 1000), # exponential\n",
    "    'normal_p': np.random.normal(10, 2, 1000),      # normal platykurtic\n",
    "    'normal_l': np.random.normal(10, 10, 1000),     # normal leptokurtic\n",
    "})"
   ]
  },
  {
   "cell_type": "code",
   "execution_count": 7,
   "id": "4115c7a3",
   "metadata": {},
   "outputs": [],
   "source": [
    "# thêm dữ liệu được tạo theo phân phối nhị thức\n",
    "first_half = np.random.normal(20, 3, 500) \n",
    "second_half = np.random.normal(-20, 3, 500) \n",
    "bimodal = np.concatenate([first_half, second_half])\n",
    "df['bimodal'] = bimodal"
   ]
  },
  {
   "cell_type": "code",
   "execution_count": 8,
   "id": "c95a89e3",
   "metadata": {},
   "outputs": [
    {
     "data": {
      "text/html": [
       "<div>\n",
       "<style scoped>\n",
       "    .dataframe tbody tr th:only-of-type {\n",
       "        vertical-align: middle;\n",
       "    }\n",
       "\n",
       "    .dataframe tbody tr th {\n",
       "        vertical-align: top;\n",
       "    }\n",
       "\n",
       "    .dataframe thead th {\n",
       "        text-align: right;\n",
       "    }\n",
       "</style>\n",
       "<table border=\"1\" class=\"dataframe\">\n",
       "  <thead>\n",
       "    <tr style=\"text-align: right;\">\n",
       "      <th></th>\n",
       "      <th>beta</th>\n",
       "      <th>exponential</th>\n",
       "      <th>normal_p</th>\n",
       "      <th>normal_l</th>\n",
       "      <th>bimodal</th>\n",
       "    </tr>\n",
       "  </thead>\n",
       "  <tbody>\n",
       "    <tr>\n",
       "      <th>0</th>\n",
       "      <td>44.940752</td>\n",
       "      <td>56.050276</td>\n",
       "      <td>8.631556</td>\n",
       "      <td>15.541046</td>\n",
       "      <td>19.484280</td>\n",
       "    </tr>\n",
       "    <tr>\n",
       "      <th>1</th>\n",
       "      <td>40.486440</td>\n",
       "      <td>15.577202</td>\n",
       "      <td>12.249503</td>\n",
       "      <td>16.252179</td>\n",
       "      <td>24.914203</td>\n",
       "    </tr>\n",
       "    <tr>\n",
       "      <th>2</th>\n",
       "      <td>48.442750</td>\n",
       "      <td>7.538447</td>\n",
       "      <td>8.105510</td>\n",
       "      <td>-7.914305</td>\n",
       "      <td>20.068188</td>\n",
       "    </tr>\n",
       "    <tr>\n",
       "      <th>3</th>\n",
       "      <td>44.441230</td>\n",
       "      <td>15.021916</td>\n",
       "      <td>9.535104</td>\n",
       "      <td>-8.105324</td>\n",
       "      <td>19.640508</td>\n",
       "    </tr>\n",
       "    <tr>\n",
       "      <th>4</th>\n",
       "      <td>53.997334</td>\n",
       "      <td>0.474323</td>\n",
       "      <td>11.065617</td>\n",
       "      <td>-2.145423</td>\n",
       "      <td>22.501307</td>\n",
       "    </tr>\n",
       "  </tbody>\n",
       "</table>\n",
       "</div>"
      ],
      "text/plain": [
       "        beta  exponential   normal_p   normal_l    bimodal\n",
       "0  44.940752    56.050276   8.631556  15.541046  19.484280\n",
       "1  40.486440    15.577202  12.249503  16.252179  24.914203\n",
       "2  48.442750     7.538447   8.105510  -7.914305  20.068188\n",
       "3  44.441230    15.021916   9.535104  -8.105324  19.640508\n",
       "4  53.997334     0.474323  11.065617  -2.145423  22.501307"
      ]
     },
     "execution_count": 8,
     "metadata": {},
     "output_type": "execute_result"
    }
   ],
   "source": [
    "# hiển thị dữ liệu\n",
    "df.head()"
   ]
  },
  {
   "cell_type": "code",
   "execution_count": 9,
   "id": "1bf2106a",
   "metadata": {},
   "outputs": [
    {
     "data": {
      "text/plain": [
       "<AxesSubplot:ylabel='Density'>"
      ]
     },
     "execution_count": 9,
     "metadata": {},
     "output_type": "execute_result"
    },
    {
     "data": {
      "image/png": "[encoded data removed]",
      "text/plain": [
       "<Figure size 432x288 with 1 Axes>"
      ]
     },
     "metadata": {
      "needs_background": "light"
     },
     "output_type": "display_data"
    }
   ],
   "source": [
    "# Trực quan hóa dữ liệu sinh ra\n",
    "sns.kdeplot(data=df)"
   ]
  },
  {
   "cell_type": "code",
   "execution_count": 11,
   "id": "d9543ff7",
   "metadata": {},
   "outputs": [
    {
     "data": {
      "text/html": [
       "<div>\n",
       "<style scoped>\n",
       "    .dataframe tbody tr th:only-of-type {\n",
       "        vertical-align: middle;\n",
       "    }\n",
       "\n",
       "    .dataframe tbody tr th {\n",
       "        vertical-align: top;\n",
       "    }\n",
       "\n",
       "    .dataframe thead th {\n",
       "        text-align: right;\n",
       "    }\n",
       "</style>\n",
       "<table border=\"1\" class=\"dataframe\">\n",
       "  <thead>\n",
       "    <tr style=\"text-align: right;\">\n",
       "      <th></th>\n",
       "      <th>beta</th>\n",
       "      <th>exponential</th>\n",
       "      <th>normal_p</th>\n",
       "      <th>normal_l</th>\n",
       "      <th>bimodal</th>\n",
       "    </tr>\n",
       "  </thead>\n",
       "  <tbody>\n",
       "    <tr>\n",
       "      <th>count</th>\n",
       "      <td>1000.000000</td>\n",
       "      <td>1000.000000</td>\n",
       "      <td>1000.000000</td>\n",
       "      <td>1000.000000</td>\n",
       "      <td>1000.000000</td>\n",
       "    </tr>\n",
       "    <tr>\n",
       "      <th>mean</th>\n",
       "      <td>50.132215</td>\n",
       "      <td>9.598927</td>\n",
       "      <td>10.007014</td>\n",
       "      <td>9.944215</td>\n",
       "      <td>0.006271</td>\n",
       "    </tr>\n",
       "    <tr>\n",
       "      <th>std</th>\n",
       "      <td>7.992929</td>\n",
       "      <td>9.461569</td>\n",
       "      <td>1.976311</td>\n",
       "      <td>9.911887</td>\n",
       "      <td>20.277451</td>\n",
       "    </tr>\n",
       "    <tr>\n",
       "      <th>min</th>\n",
       "      <td>15.717197</td>\n",
       "      <td>0.000714</td>\n",
       "      <td>4.366682</td>\n",
       "      <td>-26.550700</td>\n",
       "      <td>-29.076062</td>\n",
       "    </tr>\n",
       "    <tr>\n",
       "      <th>25%</th>\n",
       "      <td>45.403893</td>\n",
       "      <td>2.862965</td>\n",
       "      <td>8.650988</td>\n",
       "      <td>3.362251</td>\n",
       "      <td>-19.993128</td>\n",
       "    </tr>\n",
       "    <tr>\n",
       "      <th>50%</th>\n",
       "      <td>52.305052</td>\n",
       "      <td>6.683094</td>\n",
       "      <td>9.974723</td>\n",
       "      <td>9.848392</td>\n",
       "      <td>0.068796</td>\n",
       "    </tr>\n",
       "    <tr>\n",
       "      <th>75%</th>\n",
       "      <td>56.443870</td>\n",
       "      <td>13.559154</td>\n",
       "      <td>11.275976</td>\n",
       "      <td>16.681091</td>\n",
       "      <td>20.021673</td>\n",
       "    </tr>\n",
       "    <tr>\n",
       "      <th>max</th>\n",
       "      <td>59.992642</td>\n",
       "      <td>60.001677</td>\n",
       "      <td>15.924028</td>\n",
       "      <td>38.195516</td>\n",
       "      <td>29.960529</td>\n",
       "    </tr>\n",
       "  </tbody>\n",
       "</table>\n",
       "</div>"
      ],
      "text/plain": [
       "              beta  exponential     normal_p     normal_l      bimodal\n",
       "count  1000.000000  1000.000000  1000.000000  1000.000000  1000.000000\n",
       "mean     50.132215     9.598927    10.007014     9.944215     0.006271\n",
       "std       7.992929     9.461569     1.976311     9.911887    20.277451\n",
       "min      15.717197     0.000714     4.366682   -26.550700   -29.076062\n",
       "25%      45.403893     2.862965     8.650988     3.362251   -19.993128\n",
       "50%      52.305052     6.683094     9.974723     9.848392     0.068796\n",
       "75%      56.443870    13.559154    11.275976    16.681091    20.021673\n",
       "max      59.992642    60.001677    15.924028    38.195516    29.960529"
      ]
     },
     "execution_count": 11,
     "metadata": {},
     "output_type": "execute_result"
    }
   ],
   "source": [
    "# Hiển thị thống kê về dữ liệu sinh ra\n",
    "df.describe()"
   ]
  },
  {
   "cell_type": "code",
   "execution_count": 13,
   "id": "db5d57a4",
   "metadata": {},
   "outputs": [
    {
     "data": {
      "text/plain": [
       "<AxesSubplot:ylabel='Density'>"
      ]
     },
     "execution_count": 13,
     "metadata": {},
     "output_type": "execute_result"
    },
    {
     "data": {
      "image/png": "[encoded data removed]",
      "text/plain": [
       "<Figure size 432x288 with 1 Axes>"
      ]
     },
     "metadata": {
      "needs_background": "light"
     },
     "output_type": "display_data"
    }
   ],
   "source": [
    "# thêm một đặc trưng với giá trị lớn hơn nhiều\n",
    "normal_big = np.random.normal(1000000, 10000, (1000,1))  # normal distribution of large values\n",
    "df['normal_big'] = normal_big\n",
    "sns.kdeplot(data=df)"
   ]
  },
  {
   "cell_type": "code",
   "execution_count": 17,
   "id": "ae59c96c",
   "metadata": {},
   "outputs": [
    {
     "data": {
      "text/plain": [
       "<AxesSubplot:>"
      ]
     },
     "execution_count": 17,
     "metadata": {},
     "output_type": "execute_result"
    },
    {
     "data": {
      "image/png": "[encoded data removed]",
      "text/plain": [
       "<Figure size 432x288 with 1 Axes>"
      ]
     },
     "metadata": {
      "needs_background": "light"
     },
     "output_type": "display_data"
    }
   ],
   "source": [
    "# trực quan hóa bằng biểu đồ box plot\n",
    "df.boxplot()"
   ]
  },
  {
   "cell_type": "code",
   "execution_count": 21,
   "id": "d2b879fa",
   "metadata": {},
   "outputs": [],
   "source": [
    "# Khai báo đối tượng MinMaxScaler\n",
    "scaler = RobustScaler()"
   ]
  },
  {
   "cell_type": "code",
   "execution_count": 25,
   "id": "963e8e15",
   "metadata": {},
   "outputs": [],
   "source": [
    "# Chuẩn hóa dữ liệu trong df với StandardScaler\n",
    "df_s = scaler.fit_transform(df)\n",
    "# lấy danh sáchc cột\n",
    "col_names  = list(df.columns)\n",
    "# chuyển về DataFrame, gán các cột của df cho dữ liệu đã được chuẩn hóa\n",
    "df_s = pd.DataFrame(df_s,columns = col_names)"
   ]
  },
  {
   "cell_type": "code",
   "execution_count": 26,
   "id": "e45ed444",
   "metadata": {},
   "outputs": [
    {
     "data": {
      "text/html": [
       "<div>\n",
       "<style scoped>\n",
       "    .dataframe tbody tr th:only-of-type {\n",
       "        vertical-align: middle;\n",
       "    }\n",
       "\n",
       "    .dataframe tbody tr th {\n",
       "        vertical-align: top;\n",
       "    }\n",
       "\n",
       "    .dataframe thead th {\n",
       "        text-align: right;\n",
       "    }\n",
       "</style>\n",
       "<table border=\"1\" class=\"dataframe\">\n",
       "  <thead>\n",
       "    <tr style=\"text-align: right;\">\n",
       "      <th></th>\n",
       "      <th>beta</th>\n",
       "      <th>exponential</th>\n",
       "      <th>normal_p</th>\n",
       "      <th>normal_l</th>\n",
       "      <th>bimodal</th>\n",
       "      <th>normal_big</th>\n",
       "    </tr>\n",
       "  </thead>\n",
       "  <tbody>\n",
       "    <tr>\n",
       "      <th>0</th>\n",
       "      <td>-0.667058</td>\n",
       "      <td>4.615399</td>\n",
       "      <td>-0.511685</td>\n",
       "      <td>0.427414</td>\n",
       "      <td>0.485208</td>\n",
       "      <td>0.139456</td>\n",
       "    </tr>\n",
       "    <tr>\n",
       "      <th>1</th>\n",
       "      <td>-1.070529</td>\n",
       "      <td>0.831521</td>\n",
       "      <td>0.866587</td>\n",
       "      <td>0.480807</td>\n",
       "      <td>0.620905</td>\n",
       "      <td>2.205101</td>\n",
       "    </tr>\n",
       "    <tr>\n",
       "      <th>2</th>\n",
       "      <td>-0.349847</td>\n",
       "      <td>0.079968</td>\n",
       "      <td>-0.712085</td>\n",
       "      <td>-1.333652</td>\n",
       "      <td>0.499800</td>\n",
       "      <td>-2.167310</td>\n",
       "    </tr>\n",
       "    <tr>\n",
       "      <th>3</th>\n",
       "      <td>-0.712304</td>\n",
       "      <td>0.779607</td>\n",
       "      <td>-0.167475</td>\n",
       "      <td>-1.347994</td>\n",
       "      <td>0.489112</td>\n",
       "      <td>0.064074</td>\n",
       "    </tr>\n",
       "    <tr>\n",
       "      <th>4</th>\n",
       "      <td>0.153287</td>\n",
       "      <td>-0.580466</td>\n",
       "      <td>0.415580</td>\n",
       "      <td>-0.900515</td>\n",
       "      <td>0.560605</td>\n",
       "      <td>1.153834</td>\n",
       "    </tr>\n",
       "  </tbody>\n",
       "</table>\n",
       "</div>"
      ],
      "text/plain": [
       "       beta  exponential  normal_p  normal_l   bimodal  normal_big\n",
       "0 -0.667058     4.615399 -0.511685  0.427414  0.485208    0.139456\n",
       "1 -1.070529     0.831521  0.866587  0.480807  0.620905    2.205101\n",
       "2 -0.349847     0.079968 -0.712085 -1.333652  0.499800   -2.167310\n",
       "3 -0.712304     0.779607 -0.167475 -1.347994  0.489112    0.064074\n",
       "4  0.153287    -0.580466  0.415580 -0.900515  0.560605    1.153834"
      ]
     },
     "execution_count": 26,
     "metadata": {},
     "output_type": "execute_result"
    }
   ],
   "source": [
    "df_s.head()"
   ]
  },
  {
   "cell_type": "code",
   "execution_count": 28,
   "id": "f368b874",
   "metadata": {},
   "outputs": [
    {
     "data": {
      "text/plain": [
       "<AxesSubplot:ylabel='Density'>"
      ]
     },
     "execution_count": 28,
     "metadata": {},
     "output_type": "execute_result"
    },
    {
     "data": {
      "image/png": "[encoded data removed]",
      "text/plain": [
       "<Figure size 432x288 with 1 Axes>"
      ]
     },
     "metadata": {
      "needs_background": "light"
     },
     "output_type": "display_data"
    }
   ],
   "source": [
    "# biểu diễn dữ liệu đã được chuẩn hóa\n",
    "sns.kdeplot(data=df_s)"
   ]
  },
  {
   "cell_type": "code",
   "execution_count": 29,
   "id": "cef4b3bc",
   "metadata": {},
   "outputs": [
    {
     "data": {
      "text/html": [
       "<div>\n",
       "<style scoped>\n",
       "    .dataframe tbody tr th:only-of-type {\n",
       "        vertical-align: middle;\n",
       "    }\n",
       "\n",
       "    .dataframe tbody tr th {\n",
       "        vertical-align: top;\n",
       "    }\n",
       "\n",
       "    .dataframe thead th {\n",
       "        text-align: right;\n",
       "    }\n",
       "</style>\n",
       "<table border=\"1\" class=\"dataframe\">\n",
       "  <thead>\n",
       "    <tr style=\"text-align: right;\">\n",
       "      <th></th>\n",
       "      <th>beta</th>\n",
       "      <th>exponential</th>\n",
       "      <th>normal_p</th>\n",
       "      <th>normal_l</th>\n",
       "      <th>bimodal</th>\n",
       "      <th>normal_big</th>\n",
       "    </tr>\n",
       "  </thead>\n",
       "  <tbody>\n",
       "    <tr>\n",
       "      <th>count</th>\n",
       "      <td>1000.000000</td>\n",
       "      <td>1.000000e+03</td>\n",
       "      <td>1.000000e+03</td>\n",
       "      <td>1000.000000</td>\n",
       "      <td>1000.000000</td>\n",
       "      <td>1000.000000</td>\n",
       "    </tr>\n",
       "    <tr>\n",
       "      <th>mean</th>\n",
       "      <td>-0.196815</td>\n",
       "      <td>2.726048e-01</td>\n",
       "      <td>1.230128e-02</td>\n",
       "      <td>0.007195</td>\n",
       "      <td>-0.001563</td>\n",
       "      <td>0.011743</td>\n",
       "    </tr>\n",
       "    <tr>\n",
       "      <th>std</th>\n",
       "      <td>0.723999</td>\n",
       "      <td>8.845739e-01</td>\n",
       "      <td>7.528838e-01</td>\n",
       "      <td>0.744200</td>\n",
       "      <td>0.506749</td>\n",
       "      <td>0.817179</td>\n",
       "    </tr>\n",
       "    <tr>\n",
       "      <th>min</th>\n",
       "      <td>-3.314124</td>\n",
       "      <td>-6.247440e-01</td>\n",
       "      <td>-2.136407e+00</td>\n",
       "      <td>-2.732902</td>\n",
       "      <td>-0.728352</td>\n",
       "      <td>-2.418876</td>\n",
       "    </tr>\n",
       "    <tr>\n",
       "      <th>25%</th>\n",
       "      <td>-0.625106</td>\n",
       "      <td>-3.571486e-01</td>\n",
       "      <td>-5.042826e-01</td>\n",
       "      <td>-0.486990</td>\n",
       "      <td>-0.501363</td>\n",
       "      <td>-0.483879</td>\n",
       "    </tr>\n",
       "    <tr>\n",
       "      <th>50%</th>\n",
       "      <td>0.000000</td>\n",
       "      <td>4.152494e-17</td>\n",
       "      <td>3.383253e-16</td>\n",
       "      <td>0.000000</td>\n",
       "      <td>0.000000</td>\n",
       "      <td>0.000000</td>\n",
       "    </tr>\n",
       "    <tr>\n",
       "      <th>75%</th>\n",
       "      <td>0.374894</td>\n",
       "      <td>6.428514e-01</td>\n",
       "      <td>4.957174e-01</td>\n",
       "      <td>0.513010</td>\n",
       "      <td>0.498637</td>\n",
       "      <td>0.516121</td>\n",
       "    </tr>\n",
       "    <tr>\n",
       "      <th>max</th>\n",
       "      <td>0.696341</td>\n",
       "      <td>4.984821e+00</td>\n",
       "      <td>2.266412e+00</td>\n",
       "      <td>2.128348</td>\n",
       "      <td>0.747017</td>\n",
       "      <td>2.703627</td>\n",
       "    </tr>\n",
       "  </tbody>\n",
       "</table>\n",
       "</div>"
      ],
      "text/plain": [
       "              beta   exponential      normal_p     normal_l      bimodal  \\\n",
       "count  1000.000000  1.000000e+03  1.000000e+03  1000.000000  1000.000000   \n",
       "mean     -0.196815  2.726048e-01  1.230128e-02     0.007195    -0.001563   \n",
       "std       0.723999  8.845739e-01  7.528838e-01     0.744200     0.506749   \n",
       "min      -3.314124 -6.247440e-01 -2.136407e+00    -2.732902    -0.728352   \n",
       "25%      -0.625106 -3.571486e-01 -5.042826e-01    -0.486990    -0.501363   \n",
       "50%       0.000000  4.152494e-17  3.383253e-16     0.000000     0.000000   \n",
       "75%       0.374894  6.428514e-01  4.957174e-01     0.513010     0.498637   \n",
       "max       0.696341  4.984821e+00  2.266412e+00     2.128348     0.747017   \n",
       "\n",
       "        normal_big  \n",
       "count  1000.000000  \n",
       "mean      0.011743  \n",
       "std       0.817179  \n",
       "min      -2.418876  \n",
       "25%      -0.483879  \n",
       "50%       0.000000  \n",
       "75%       0.516121  \n",
       "max       2.703627  "
      ]
     },
     "execution_count": 29,
     "metadata": {},
     "output_type": "execute_result"
    }
   ],
   "source": [
    "# thống kê về dữ liệu được sinh ra\n",
    "df_s.describe()"
   ]
  },
  {
   "cell_type": "code",
   "execution_count": 30,
   "id": "c8d66485",
   "metadata": {},
   "outputs": [
    {
     "data": {
      "text/plain": [
       "<AxesSubplot:>"
      ]
     },
     "execution_count": 30,
     "metadata": {},
     "output_type": "execute_result"
    },
    {
     "data": {
      "image/png": "[encoded data removed]",
      "text/plain": [
       "<Figure size 432x288 with 1 Axes>"
      ]
     },
     "metadata": {
      "needs_background": "light"
     },
     "output_type": "display_data"
    }
   ],
   "source": [
    "df_s.boxplot()"
   ]
  },
  {
   "cell_type": "code",
   "execution_count": 32,
   "id": "d85cd5e8",
   "metadata": {},
   "outputs": [
    {
     "data": {
      "text/plain": [
       "[-3.314124409424175,\n",
       " -0.6247440493512654,\n",
       " -2.1364065602287385,\n",
       " -2.732902484759638,\n",
       " -0.7283519318369569,\n",
       " -2.418876276032429]"
      ]
     },
     "execution_count": 32,
     "metadata": {},
     "output_type": "execute_result"
    }
   ],
   "source": [
    "# lấy các giá trị min ở mỗi cột\n",
    "mins = [df_s[col].min() for col in df.columns]\n",
    "mins"
   ]
  },
  {
   "cell_type": "code",
   "execution_count": 34,
   "id": "5a04a3ac",
   "metadata": {},
   "outputs": [
    {
     "data": {
      "text/plain": [
       "[0.696341119671359,\n",
       " 4.984820868551081,\n",
       " 2.2664122243827034,\n",
       " 2.128347766549328,\n",
       " 0.747016895481231,\n",
       " 2.7036266961445485]"
      ]
     },
     "execution_count": 34,
     "metadata": {},
     "output_type": "execute_result"
    }
   ],
   "source": [
    "# lấy giá trị max ở mỗi cột\n",
    "maxs = [df_s[col].max() for col in df_s.columns]\n",
    "maxs"
   ]
  },
  {
   "cell_type": "code",
   "execution_count": 36,
   "id": "439ffbf2",
   "metadata": {},
   "outputs": [
    {
     "data": {
      "text/plain": [
       "array([5.23050522e+01, 6.68309415e+00, 9.97472343e+00, 9.84839221e+00,\n",
       "       6.87959831e-02, 9.99766090e+05])"
      ]
     },
     "execution_count": 36,
     "metadata": {},
     "output_type": "execute_result"
    }
   ],
   "source": [
    "# giá trị trung vị của các đặc trưng của tập dữ liệu gốc\n",
    "scaler.center_"
   ]
  }
 ],
 "metadata": {
  "kernelspec": {
   "display_name": "Python 3",
   "language": "python",
   "name": "python3"
  },
  "language_info": {
   "codemirror_mode": {
    "name": "ipython",
    "version": 3
   },
   "file_extension": ".py",
   "mimetype": "text/x-python",
   "name": "python",
   "nbconvert_exporter": "python",
   "pygments_lexer": "ipython3",
   "version": "3.8.8"
  }
 },
 "nbformat": 4,
 "nbformat_minor": 5
}
