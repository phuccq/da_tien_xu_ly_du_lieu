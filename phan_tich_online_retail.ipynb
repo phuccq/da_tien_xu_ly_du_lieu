{
 "cells": [
  {
   "cell_type": "code",
   "execution_count": 2,
   "id": "3c77035f",
   "metadata": {},
   "outputs": [],
   "source": [
    "# import cac thu vien can thiet\n",
    "import pandas as pd\n",
    "import numpy as np\n",
    "import seaborn as sns\n",
    "from sklearn.preprocessing import MinMaxScaler, RobustScaler, StandardScaler"
   ]
  },
  {
   "cell_type": "code",
   "execution_count": 4,
   "id": "20700653",
   "metadata": {},
   "outputs": [],
   "source": [
    "# Doc bo du lieu\n",
    "df = pd.read_csv('OnlineRetail.csv')"
   ]
  },
  {
   "cell_type": "code",
   "execution_count": 9,
   "id": "cbdaeadf",
   "metadata": {},
   "outputs": [
    {
     "name": "stdout",
     "output_type": "stream",
     "text": [
      "<class 'pandas.core.frame.DataFrame'>\n",
      "RangeIndex: 541909 entries, 0 to 541908\n",
      "Data columns (total 8 columns):\n",
      " #   Column       Non-Null Count   Dtype  \n",
      "---  ------       --------------   -----  \n",
      " 0   InvoiceNo    541909 non-null  object \n",
      " 1   StockCode    541909 non-null  object \n",
      " 2   Description  540455 non-null  object \n",
      " 3   Quantity     541909 non-null  int64  \n",
      " 4   InvoiceDate  541909 non-null  object \n",
      " 5   UnitPrice    541909 non-null  float64\n",
      " 6   CustomerID   406829 non-null  float64\n",
      " 7   Country      541909 non-null  object \n",
      "dtypes: float64(2), int64(1), object(5)\n",
      "memory usage: 33.1+ MB\n"
     ]
    }
   ],
   "source": [
    "df.info()"
   ]
  },
  {
   "cell_type": "code",
   "execution_count": null,
   "id": "67688d94",
   "metadata": {},
   "outputs": [],
   "source": [
    "# Có nên xóa hết các dòng chứa dữ liệu khuyết thiếu, giải thích vì sao\n",
    "# Trả lời: Có thể xóa dữ liệu khuyết thiếu ở cột 'Description' do dữ liệu khuyết thiếu không lớn (khoảng 0,27%)"
   ]
  },
  {
   "cell_type": "code",
   "execution_count": 12,
   "id": "adbbeb50",
   "metadata": {},
   "outputs": [],
   "source": [
    "# Thực hiện xử lý giá trị khuyết thiếu: Thay thế giá trị khuyết thiếu của thuộc tính Description\n",
    "# bằng giá trị mặc định “Không biết”\n",
    "df['Description'].fillna('Không biết',inplace=True)"
   ]
  },
  {
   "cell_type": "code",
   "execution_count": 54,
   "id": "3064c506",
   "metadata": {},
   "outputs": [],
   "source": [
    "# Thực hiện phát hiện giá trị ngoại lai của thuộc tính Quantity và Thuộc tính UnitPrice\n",
    "# Loại bỏ dữ liệu 'Quantity' có giá trị âm\n",
    "df = df[(df['Quantity']>0)&(df['UnitPrice']>0)]\n",
    "# df.info()"
   ]
  },
  {
   "cell_type": "code",
   "execution_count": 58,
   "id": "c0d915f8",
   "metadata": {},
   "outputs": [
    {
     "name": "stdout",
     "output_type": "stream",
     "text": [
      "<class 'pandas.core.frame.DataFrame'>\n",
      "Int64Index: 530104 entries, 0 to 541908\n",
      "Data columns (total 8 columns):\n",
      " #   Column       Non-Null Count   Dtype  \n",
      "---  ------       --------------   -----  \n",
      " 0   InvoiceNo    530104 non-null  object \n",
      " 1   StockCode    530104 non-null  object \n",
      " 2   Description  530104 non-null  object \n",
      " 3   Quantity     530104 non-null  int64  \n",
      " 4   InvoiceDate  530104 non-null  object \n",
      " 5   UnitPrice    530104 non-null  float64\n",
      " 6   CustomerID   397884 non-null  float64\n",
      " 7   Country      530104 non-null  object \n",
      "dtypes: float64(2), int64(1), object(5)\n",
      "memory usage: 36.4+ MB\n"
     ]
    }
   ],
   "source": [
    "df.info()"
   ]
  },
  {
   "cell_type": "code",
   "execution_count": null,
   "id": "a7bfe4f1",
   "metadata": {},
   "outputs": [],
   "source": []
  }
 ],
 "metadata": {
  "kernelspec": {
   "display_name": "Python 3",
   "language": "python",
   "name": "python3"
  },
  "language_info": {
   "codemirror_mode": {
    "name": "ipython",
    "version": 3
   },
   "file_extension": ".py",
   "mimetype": "text/x-python",
   "name": "python",
   "nbconvert_exporter": "python",
   "pygments_lexer": "ipython3",
   "version": "3.8.8"
  }
 },
 "nbformat": 4,
 "nbformat_minor": 5
}
