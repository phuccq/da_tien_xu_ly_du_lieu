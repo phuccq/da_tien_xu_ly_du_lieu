{
 "cells": [
  {
   "cell_type": "code",
   "execution_count": 1,
   "id": "8b7759d6",
   "metadata": {},
   "outputs": [],
   "source": [
    "import pandas as pd\n",
    "import numpy as np\n",
    "import matplotlib as plt\n",
    "import seaborn as sns\n",
    "from sklearn.preprocessing import StandardScaler"
   ]
  },
  {
   "cell_type": "code",
   "execution_count": 2,
   "id": "803cd98b",
   "metadata": {},
   "outputs": [],
   "source": [
    "# tạo các cột theo các phần phối khác nhau\n",
    "df = pd.DataFrame({ \n",
    "    'beta': np.random.beta(5, 1, 1000) * 60,        # beta\n",
    "    'exponential': np.random.exponential(10, 1000), # exponential\n",
    "    'normal_p': np.random.normal(10, 2, 1000),      # normal platykurtic\n",
    "    'normal_l': np.random.normal(10, 10, 1000),     # normal leptokurtic\n",
    "})"
   ]
  },
  {
   "cell_type": "code",
   "execution_count": 5,
   "id": "25a7898a",
   "metadata": {},
   "outputs": [
    {
     "data": {
      "text/html": [
       "<div>\n",
       "<style scoped>\n",
       "    .dataframe tbody tr th:only-of-type {\n",
       "        vertical-align: middle;\n",
       "    }\n",
       "\n",
       "    .dataframe tbody tr th {\n",
       "        vertical-align: top;\n",
       "    }\n",
       "\n",
       "    .dataframe thead th {\n",
       "        text-align: right;\n",
       "    }\n",
       "</style>\n",
       "<table border=\"1\" class=\"dataframe\">\n",
       "  <thead>\n",
       "    <tr style=\"text-align: right;\">\n",
       "      <th></th>\n",
       "      <th>beta</th>\n",
       "      <th>exponential</th>\n",
       "      <th>normal_p</th>\n",
       "      <th>normal_l</th>\n",
       "    </tr>\n",
       "  </thead>\n",
       "  <tbody>\n",
       "    <tr>\n",
       "      <th>0</th>\n",
       "      <td>59.668106</td>\n",
       "      <td>21.323039</td>\n",
       "      <td>10.057475</td>\n",
       "      <td>5.375822</td>\n",
       "    </tr>\n",
       "    <tr>\n",
       "      <th>1</th>\n",
       "      <td>27.927351</td>\n",
       "      <td>15.764923</td>\n",
       "      <td>9.119676</td>\n",
       "      <td>20.310735</td>\n",
       "    </tr>\n",
       "    <tr>\n",
       "      <th>2</th>\n",
       "      <td>37.178234</td>\n",
       "      <td>14.434328</td>\n",
       "      <td>13.402043</td>\n",
       "      <td>25.751363</td>\n",
       "    </tr>\n",
       "    <tr>\n",
       "      <th>3</th>\n",
       "      <td>53.320607</td>\n",
       "      <td>9.340248</td>\n",
       "      <td>10.772147</td>\n",
       "      <td>6.309222</td>\n",
       "    </tr>\n",
       "    <tr>\n",
       "      <th>4</th>\n",
       "      <td>57.741020</td>\n",
       "      <td>3.868236</td>\n",
       "      <td>11.310408</td>\n",
       "      <td>18.213342</td>\n",
       "    </tr>\n",
       "  </tbody>\n",
       "</table>\n",
       "</div>"
      ],
      "text/plain": [
       "        beta  exponential   normal_p   normal_l\n",
       "0  59.668106    21.323039  10.057475   5.375822\n",
       "1  27.927351    15.764923   9.119676  20.310735\n",
       "2  37.178234    14.434328  13.402043  25.751363\n",
       "3  53.320607     9.340248  10.772147   6.309222\n",
       "4  57.741020     3.868236  11.310408  18.213342"
      ]
     },
     "execution_count": 5,
     "metadata": {},
     "output_type": "execute_result"
    }
   ],
   "source": [
    "df.head()"
   ]
  },
  {
   "cell_type": "code",
   "execution_count": 7,
   "id": "da3310c3",
   "metadata": {},
   "outputs": [
    {
     "data": {
      "text/plain": [
       "<AxesSubplot:ylabel='Density'>"
      ]
     },
     "execution_count": 7,
     "metadata": {},
     "output_type": "execute_result"
    },
    {
     "data": {
      "image/png": "[encoded data removed]",
      "text/plain": [
       "<Figure size 432x288 with 1 Axes>"
      ]
     },
     "metadata": {
      "needs_background": "light"
     },
     "output_type": "display_data"
    }
   ],
   "source": [
    "sns.kdeplot(data=df)"
   ]
  },
  {
   "cell_type": "code",
   "execution_count": 12,
   "id": "602759ea",
   "metadata": {},
   "outputs": [],
   "source": [
    "# thêm dữ liệu được tạo theo phân phối nhị thức\n",
    "first_half = np.random.normal(20, 3, 500) \n",
    "second_half = np.random.normal(-20, 3, 500) \n",
    "bimodal = np.concatenate([first_half, second_half])\n",
    "\n",
    "df['bimodal'] = bimodal"
   ]
  },
  {
   "cell_type": "code",
   "execution_count": 13,
   "id": "dbc8c666",
   "metadata": {},
   "outputs": [
    {
     "data": {
      "text/html": [
       "<div>\n",
       "<style scoped>\n",
       "    .dataframe tbody tr th:only-of-type {\n",
       "        vertical-align: middle;\n",
       "    }\n",
       "\n",
       "    .dataframe tbody tr th {\n",
       "        vertical-align: top;\n",
       "    }\n",
       "\n",
       "    .dataframe thead th {\n",
       "        text-align: right;\n",
       "    }\n",
       "</style>\n",
       "<table border=\"1\" class=\"dataframe\">\n",
       "  <thead>\n",
       "    <tr style=\"text-align: right;\">\n",
       "      <th></th>\n",
       "      <th>beta</th>\n",
       "      <th>exponential</th>\n",
       "      <th>normal_p</th>\n",
       "      <th>normal_l</th>\n",
       "      <th>bimodal</th>\n",
       "    </tr>\n",
       "  </thead>\n",
       "  <tbody>\n",
       "    <tr>\n",
       "      <th>0</th>\n",
       "      <td>59.668106</td>\n",
       "      <td>21.323039</td>\n",
       "      <td>10.057475</td>\n",
       "      <td>5.375822</td>\n",
       "      <td>20.465907</td>\n",
       "    </tr>\n",
       "    <tr>\n",
       "      <th>1</th>\n",
       "      <td>27.927351</td>\n",
       "      <td>15.764923</td>\n",
       "      <td>9.119676</td>\n",
       "      <td>20.310735</td>\n",
       "      <td>19.468175</td>\n",
       "    </tr>\n",
       "    <tr>\n",
       "      <th>2</th>\n",
       "      <td>37.178234</td>\n",
       "      <td>14.434328</td>\n",
       "      <td>13.402043</td>\n",
       "      <td>25.751363</td>\n",
       "      <td>21.850592</td>\n",
       "    </tr>\n",
       "    <tr>\n",
       "      <th>3</th>\n",
       "      <td>53.320607</td>\n",
       "      <td>9.340248</td>\n",
       "      <td>10.772147</td>\n",
       "      <td>6.309222</td>\n",
       "      <td>21.708146</td>\n",
       "    </tr>\n",
       "    <tr>\n",
       "      <th>4</th>\n",
       "      <td>57.741020</td>\n",
       "      <td>3.868236</td>\n",
       "      <td>11.310408</td>\n",
       "      <td>18.213342</td>\n",
       "      <td>20.105312</td>\n",
       "    </tr>\n",
       "  </tbody>\n",
       "</table>\n",
       "</div>"
      ],
      "text/plain": [
       "        beta  exponential   normal_p   normal_l    bimodal\n",
       "0  59.668106    21.323039  10.057475   5.375822  20.465907\n",
       "1  27.927351    15.764923   9.119676  20.310735  19.468175\n",
       "2  37.178234    14.434328  13.402043  25.751363  21.850592\n",
       "3  53.320607     9.340248  10.772147   6.309222  21.708146\n",
       "4  57.741020     3.868236  11.310408  18.213342  20.105312"
      ]
     },
     "execution_count": 13,
     "metadata": {},
     "output_type": "execute_result"
    }
   ],
   "source": [
    "df.head()"
   ]
  },
  {
   "cell_type": "code",
   "execution_count": 14,
   "id": "e9a2d8c5",
   "metadata": {},
   "outputs": [
    {
     "data": {
      "text/plain": [
       "<AxesSubplot:ylabel='Density'>"
      ]
     },
     "execution_count": 14,
     "metadata": {},
     "output_type": "execute_result"
    },
    {
     "data": {
      "image/png": "[encoded data removed]",
      "text/plain": [
       "<Figure size 432x288 with 1 Axes>"
      ]
     },
     "metadata": {
      "needs_background": "light"
     },
     "output_type": "display_data"
    }
   ],
   "source": [
    "sns.kdeplot(data=df)"
   ]
  },
  {
   "cell_type": "code",
   "execution_count": 15,
   "id": "c9a8b1ec",
   "metadata": {},
   "outputs": [
    {
     "data": {
      "text/html": [
       "<div>\n",
       "<style scoped>\n",
       "    .dataframe tbody tr th:only-of-type {\n",
       "        vertical-align: middle;\n",
       "    }\n",
       "\n",
       "    .dataframe tbody tr th {\n",
       "        vertical-align: top;\n",
       "    }\n",
       "\n",
       "    .dataframe thead th {\n",
       "        text-align: right;\n",
       "    }\n",
       "</style>\n",
       "<table border=\"1\" class=\"dataframe\">\n",
       "  <thead>\n",
       "    <tr style=\"text-align: right;\">\n",
       "      <th></th>\n",
       "      <th>beta</th>\n",
       "      <th>exponential</th>\n",
       "      <th>normal_p</th>\n",
       "      <th>normal_l</th>\n",
       "      <th>bimodal</th>\n",
       "    </tr>\n",
       "  </thead>\n",
       "  <tbody>\n",
       "    <tr>\n",
       "      <th>count</th>\n",
       "      <td>1000.000000</td>\n",
       "      <td>1000.000000</td>\n",
       "      <td>1000.000000</td>\n",
       "      <td>1000.000000</td>\n",
       "      <td>1000.000000</td>\n",
       "    </tr>\n",
       "    <tr>\n",
       "      <th>mean</th>\n",
       "      <td>49.732793</td>\n",
       "      <td>9.562501</td>\n",
       "      <td>10.034977</td>\n",
       "      <td>9.961739</td>\n",
       "      <td>-0.086424</td>\n",
       "    </tr>\n",
       "    <tr>\n",
       "      <th>std</th>\n",
       "      <td>8.866138</td>\n",
       "      <td>9.663986</td>\n",
       "      <td>2.015054</td>\n",
       "      <td>9.799301</td>\n",
       "      <td>20.289446</td>\n",
       "    </tr>\n",
       "    <tr>\n",
       "      <th>min</th>\n",
       "      <td>7.303264</td>\n",
       "      <td>0.015971</td>\n",
       "      <td>3.613918</td>\n",
       "      <td>-19.398275</td>\n",
       "      <td>-27.905494</td>\n",
       "    </tr>\n",
       "    <tr>\n",
       "      <th>25%</th>\n",
       "      <td>45.062180</td>\n",
       "      <td>2.923145</td>\n",
       "      <td>8.615589</td>\n",
       "      <td>3.725114</td>\n",
       "      <td>-20.203388</td>\n",
       "    </tr>\n",
       "    <tr>\n",
       "      <th>50%</th>\n",
       "      <td>52.268529</td>\n",
       "      <td>6.577678</td>\n",
       "      <td>9.991031</td>\n",
       "      <td>9.796327</td>\n",
       "      <td>-0.416663</td>\n",
       "    </tr>\n",
       "    <tr>\n",
       "      <th>75%</th>\n",
       "      <td>56.753034</td>\n",
       "      <td>12.880546</td>\n",
       "      <td>11.401209</td>\n",
       "      <td>16.862123</td>\n",
       "      <td>20.001923</td>\n",
       "    </tr>\n",
       "    <tr>\n",
       "      <th>max</th>\n",
       "      <td>59.992798</td>\n",
       "      <td>66.880806</td>\n",
       "      <td>16.305681</td>\n",
       "      <td>42.010968</td>\n",
       "      <td>27.966661</td>\n",
       "    </tr>\n",
       "  </tbody>\n",
       "</table>\n",
       "</div>"
      ],
      "text/plain": [
       "              beta  exponential     normal_p     normal_l      bimodal\n",
       "count  1000.000000  1000.000000  1000.000000  1000.000000  1000.000000\n",
       "mean     49.732793     9.562501    10.034977     9.961739    -0.086424\n",
       "std       8.866138     9.663986     2.015054     9.799301    20.289446\n",
       "min       7.303264     0.015971     3.613918   -19.398275   -27.905494\n",
       "25%      45.062180     2.923145     8.615589     3.725114   -20.203388\n",
       "50%      52.268529     6.577678     9.991031     9.796327    -0.416663\n",
       "75%      56.753034    12.880546    11.401209    16.862123    20.001923\n",
       "max      59.992798    66.880806    16.305681    42.010968    27.966661"
      ]
     },
     "execution_count": 15,
     "metadata": {},
     "output_type": "execute_result"
    }
   ],
   "source": [
    "df.describe()"
   ]
  },
  {
   "cell_type": "code",
   "execution_count": 16,
   "id": "9eee816e",
   "metadata": {},
   "outputs": [
    {
     "data": {
      "text/plain": [
       "<AxesSubplot:ylabel='Density'>"
      ]
     },
     "execution_count": 16,
     "metadata": {},
     "output_type": "execute_result"
    },
    {
     "data": {
      "image/png": "[encoded data removed]",
      "text/plain": [
       "<Figure size 432x288 with 1 Axes>"
      ]
     },
     "metadata": {
      "needs_background": "light"
     },
     "output_type": "display_data"
    }
   ],
   "source": [
    "normal_big = np.random.normal(1000000, 10000, (1000,1))  # normal distribution of large values\n",
    "df['normal_big'] = normal_big\n",
    "sns.kdeplot(data=df)"
   ]
  },
  {
   "cell_type": "code",
   "execution_count": 17,
   "id": "1d0d982c",
   "metadata": {},
   "outputs": [
    {
     "data": {
      "text/plain": [
       "<AxesSubplot:>"
      ]
     },
     "execution_count": 17,
     "metadata": {},
     "output_type": "execute_result"
    },
    {
     "data": {
      "image/png": "[encoded data removed]",
      "text/plain": [
       "<Figure size 432x288 with 1 Axes>"
      ]
     },
     "metadata": {
      "needs_background": "light"
     },
     "output_type": "display_data"
    }
   ],
   "source": [
    "df.boxplot()"
   ]
  },
  {
   "cell_type": "code",
   "execution_count": 18,
   "id": "27e26efc",
   "metadata": {},
   "outputs": [],
   "source": [
    "# Khai báo đối tượng StandardScaler\n",
    "s_scaler = StandardScaler()"
   ]
  },
  {
   "cell_type": "code",
   "execution_count": 22,
   "id": "e2c29b9c",
   "metadata": {},
   "outputs": [
    {
     "data": {
      "text/html": [
       "<div>\n",
       "<style scoped>\n",
       "    .dataframe tbody tr th:only-of-type {\n",
       "        vertical-align: middle;\n",
       "    }\n",
       "\n",
       "    .dataframe tbody tr th {\n",
       "        vertical-align: top;\n",
       "    }\n",
       "\n",
       "    .dataframe thead th {\n",
       "        text-align: right;\n",
       "    }\n",
       "</style>\n",
       "<table border=\"1\" class=\"dataframe\">\n",
       "  <thead>\n",
       "    <tr style=\"text-align: right;\">\n",
       "      <th></th>\n",
       "      <th>beta</th>\n",
       "      <th>exponential</th>\n",
       "      <th>normal_p</th>\n",
       "      <th>normal_l</th>\n",
       "      <th>bimodal</th>\n",
       "      <th>normal_big</th>\n",
       "    </tr>\n",
       "  </thead>\n",
       "  <tbody>\n",
       "    <tr>\n",
       "      <th>0</th>\n",
       "      <td>1.121151</td>\n",
       "      <td>1.217554</td>\n",
       "      <td>0.011170</td>\n",
       "      <td>-0.468218</td>\n",
       "      <td>1.013464</td>\n",
       "      <td>0.017736</td>\n",
       "    </tr>\n",
       "    <tr>\n",
       "      <th>1</th>\n",
       "      <td>-2.460637</td>\n",
       "      <td>0.642129</td>\n",
       "      <td>-0.454459</td>\n",
       "      <td>1.056624</td>\n",
       "      <td>0.964264</td>\n",
       "      <td>-0.254367</td>\n",
       "    </tr>\n",
       "    <tr>\n",
       "      <th>2</th>\n",
       "      <td>-1.416721</td>\n",
       "      <td>0.504374</td>\n",
       "      <td>1.671792</td>\n",
       "      <td>1.612107</td>\n",
       "      <td>1.081744</td>\n",
       "      <td>0.360933</td>\n",
       "    </tr>\n",
       "    <tr>\n",
       "      <th>3</th>\n",
       "      <td>0.404867</td>\n",
       "      <td>-0.023009</td>\n",
       "      <td>0.366014</td>\n",
       "      <td>-0.372919</td>\n",
       "      <td>1.074720</td>\n",
       "      <td>-0.437855</td>\n",
       "    </tr>\n",
       "    <tr>\n",
       "      <th>4</th>\n",
       "      <td>0.903689</td>\n",
       "      <td>-0.589520</td>\n",
       "      <td>0.633268</td>\n",
       "      <td>0.842482</td>\n",
       "      <td>0.995682</td>\n",
       "      <td>0.082976</td>\n",
       "    </tr>\n",
       "  </tbody>\n",
       "</table>\n",
       "</div>"
      ],
      "text/plain": [
       "       beta  exponential  normal_p  normal_l   bimodal  normal_big\n",
       "0  1.121151     1.217554  0.011170 -0.468218  1.013464    0.017736\n",
       "1 -2.460637     0.642129 -0.454459  1.056624  0.964264   -0.254367\n",
       "2 -1.416721     0.504374  1.671792  1.612107  1.081744    0.360933\n",
       "3  0.404867    -0.023009  0.366014 -0.372919  1.074720   -0.437855\n",
       "4  0.903689    -0.589520  0.633268  0.842482  0.995682    0.082976"
      ]
     },
     "execution_count": 22,
     "metadata": {},
     "output_type": "execute_result"
    }
   ],
   "source": [
    "# Chuẩn hóa dữ liệu trong df với StandardScaler\n",
    "df_s = s_scaler.fit_transform(df)\n",
    "# lấy danh sáchc cột\n",
    "col_names = list(df.columns)\n",
    "# chuyển về DataFrame, gán các cột của df cho dữ liệu đã được chuẩn hóa\n",
    "df_s = pd.DataFrame(df_s, columns=col_names)\n",
    "df_s.head()"
   ]
  },
  {
   "cell_type": "code",
   "execution_count": 23,
   "id": "a2942341",
   "metadata": {},
   "outputs": [
    {
     "data": {
      "text/plain": [
       "<AxesSubplot:ylabel='Density'>"
      ]
     },
     "execution_count": 23,
     "metadata": {},
     "output_type": "execute_result"
    },
    {
     "data": {
      "image/png": "[encoded data removed]",
      "text/plain": [
       "<Figure size 432x288 with 1 Axes>"
      ]
     },
     "metadata": {
      "needs_background": "light"
     },
     "output_type": "display_data"
    }
   ],
   "source": [
    "# biểu diễn dữ liệu đã được chuẩn hóa\n",
    "sns.kdeplot(data=df_s)"
   ]
  },
  {
   "cell_type": "code",
   "execution_count": 24,
   "id": "ddb5412c",
   "metadata": {},
   "outputs": [
    {
     "data": {
      "text/html": [
       "<div>\n",
       "<style scoped>\n",
       "    .dataframe tbody tr th:only-of-type {\n",
       "        vertical-align: middle;\n",
       "    }\n",
       "\n",
       "    .dataframe tbody tr th {\n",
       "        vertical-align: top;\n",
       "    }\n",
       "\n",
       "    .dataframe thead th {\n",
       "        text-align: right;\n",
       "    }\n",
       "</style>\n",
       "<table border=\"1\" class=\"dataframe\">\n",
       "  <thead>\n",
       "    <tr style=\"text-align: right;\">\n",
       "      <th></th>\n",
       "      <th>beta</th>\n",
       "      <th>exponential</th>\n",
       "      <th>normal_p</th>\n",
       "      <th>normal_l</th>\n",
       "      <th>bimodal</th>\n",
       "      <th>normal_big</th>\n",
       "    </tr>\n",
       "  </thead>\n",
       "  <tbody>\n",
       "    <tr>\n",
       "      <th>count</th>\n",
       "      <td>1.000000e+03</td>\n",
       "      <td>1.000000e+03</td>\n",
       "      <td>1.000000e+03</td>\n",
       "      <td>1.000000e+03</td>\n",
       "      <td>1.000000e+03</td>\n",
       "      <td>1.000000e+03</td>\n",
       "    </tr>\n",
       "    <tr>\n",
       "      <th>mean</th>\n",
       "      <td>2.395861e-16</td>\n",
       "      <td>-2.986500e-17</td>\n",
       "      <td>3.588241e-16</td>\n",
       "      <td>1.065814e-17</td>\n",
       "      <td>2.565725e-16</td>\n",
       "      <td>-5.314194e-15</td>\n",
       "    </tr>\n",
       "    <tr>\n",
       "      <th>std</th>\n",
       "      <td>1.000500e+00</td>\n",
       "      <td>1.000500e+00</td>\n",
       "      <td>1.000500e+00</td>\n",
       "      <td>1.000500e+00</td>\n",
       "      <td>1.000500e+00</td>\n",
       "      <td>1.000500e+00</td>\n",
       "    </tr>\n",
       "    <tr>\n",
       "      <th>min</th>\n",
       "      <td>-4.787965e+00</td>\n",
       "      <td>-9.883402e-01</td>\n",
       "      <td>-3.188139e+00</td>\n",
       "      <td>-2.997633e+00</td>\n",
       "      <td>-1.371796e+00</td>\n",
       "      <td>-2.792371e+00</td>\n",
       "    </tr>\n",
       "    <tr>\n",
       "      <th>25%</th>\n",
       "      <td>-5.270558e-01</td>\n",
       "      <td>-6.873641e-01</td>\n",
       "      <td>-7.047448e-01</td>\n",
       "      <td>-6.367541e-01</td>\n",
       "      <td>-9.919951e-01</td>\n",
       "      <td>-6.632981e-01</td>\n",
       "    </tr>\n",
       "    <tr>\n",
       "      <th>50%</th>\n",
       "      <td>2.861454e-01</td>\n",
       "      <td>-3.090150e-01</td>\n",
       "      <td>-2.181988e-02</td>\n",
       "      <td>-1.688847e-02</td>\n",
       "      <td>-1.628456e-02</td>\n",
       "      <td>-4.047206e-02</td>\n",
       "    </tr>\n",
       "    <tr>\n",
       "      <th>75%</th>\n",
       "      <td>7.921998e-01</td>\n",
       "      <td>3.435131e-01</td>\n",
       "      <td>6.783516e-01</td>\n",
       "      <td>7.045233e-01</td>\n",
       "      <td>9.905839e-01</td>\n",
       "      <td>6.671065e-01</td>\n",
       "    </tr>\n",
       "    <tr>\n",
       "      <th>max</th>\n",
       "      <td>1.157791e+00</td>\n",
       "      <td>5.934092e+00</td>\n",
       "      <td>3.113485e+00</td>\n",
       "      <td>3.272199e+00</td>\n",
       "      <td>1.383336e+00</td>\n",
       "      <td>3.050389e+00</td>\n",
       "    </tr>\n",
       "  </tbody>\n",
       "</table>\n",
       "</div>"
      ],
      "text/plain": [
       "               beta   exponential      normal_p      normal_l       bimodal  \\\n",
       "count  1.000000e+03  1.000000e+03  1.000000e+03  1.000000e+03  1.000000e+03   \n",
       "mean   2.395861e-16 -2.986500e-17  3.588241e-16  1.065814e-17  2.565725e-16   \n",
       "std    1.000500e+00  1.000500e+00  1.000500e+00  1.000500e+00  1.000500e+00   \n",
       "min   -4.787965e+00 -9.883402e-01 -3.188139e+00 -2.997633e+00 -1.371796e+00   \n",
       "25%   -5.270558e-01 -6.873641e-01 -7.047448e-01 -6.367541e-01 -9.919951e-01   \n",
       "50%    2.861454e-01 -3.090150e-01 -2.181988e-02 -1.688847e-02 -1.628456e-02   \n",
       "75%    7.921998e-01  3.435131e-01  6.783516e-01  7.045233e-01  9.905839e-01   \n",
       "max    1.157791e+00  5.934092e+00  3.113485e+00  3.272199e+00  1.383336e+00   \n",
       "\n",
       "         normal_big  \n",
       "count  1.000000e+03  \n",
       "mean  -5.314194e-15  \n",
       "std    1.000500e+00  \n",
       "min   -2.792371e+00  \n",
       "25%   -6.632981e-01  \n",
       "50%   -4.047206e-02  \n",
       "75%    6.671065e-01  \n",
       "max    3.050389e+00  "
      ]
     },
     "execution_count": 24,
     "metadata": {},
     "output_type": "execute_result"
    }
   ],
   "source": [
    "# thống kê về dữ liệu được sinh ra\n",
    "df_s.describe()"
   ]
  },
  {
   "cell_type": "code",
   "execution_count": 25,
   "id": "1560d74d",
   "metadata": {},
   "outputs": [
    {
     "data": {
      "text/plain": [
       "<AxesSubplot:>"
      ]
     },
     "execution_count": 25,
     "metadata": {},
     "output_type": "execute_result"
    },
    {
     "data": {
      "image/png": "[encoded data removed]",
      "text/plain": [
       "<Figure size 432x288 with 1 Axes>"
      ]
     },
     "metadata": {
      "needs_background": "light"
     },
     "output_type": "display_data"
    }
   ],
   "source": [
    "# trực quan hóa bằng biểu đồ box plot\n",
    "df_s.boxplot()"
   ]
  }
 ],
 "metadata": {
  "kernelspec": {
   "display_name": "Python 3",
   "language": "python",
   "name": "python3"
  },
  "language_info": {
   "codemirror_mode": {
    "name": "ipython",
    "version": 3
   },
   "file_extension": ".py",
   "mimetype": "text/x-python",
   "name": "python",
   "nbconvert_exporter": "python",
   "pygments_lexer": "ipython3",
   "version": "3.8.8"
  }
 },
 "nbformat": 4,
 "nbformat_minor": 5
}
